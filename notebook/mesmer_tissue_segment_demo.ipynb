{
 "cells": [
  {
   "cell_type": "markdown",
   "metadata": {},
   "source": [
    "#### Mesmer: Tissue Segmentation Demo\n",
    "This is the copy of the offiial demo from DeepCell Application [Website](https://deepcell.readthedocs.io/en/master/app-gallery/mesmer.html#sphx-glr-app-gallery-mesmer-py)\n",
    "Note some package import has been corrected accordingly, since the official demo has been outdated per the deepcell package version upgrading.\n",
    "This demo is compatitable with deepcell version [0.12.0](https://pypi.org/project/DeepCell/0.12.10/)"
   ]
  },
  {
   "cell_type": "code",
   "execution_count": 17,
   "metadata": {},
   "outputs": [],
   "source": [
    "import os\n",
    "from matplotlib import pyplot as plt\n",
    "\n",
    "from deepcell.datasets import TissueNet\n",
    "from deepcell.utils.plot_utils import create_rgb_image, make_outline_overlay"
   ]
  },
  {
   "cell_type": "code",
   "execution_count": 20,
   "metadata": {},
   "outputs": [],
   "source": [
    "deepcell_token = \"\"\n",
    "os.environ[\"DEEPCELL_ACCESS_TOKEN\"] = deepcell_token"
   ]
  },
  {
   "cell_type": "code",
   "execution_count": null,
   "metadata": {},
   "outputs": [],
   "source": [
    "# Download multiplex data\n",
    "X, y, _ = TissueNet().load_data()"
   ]
  },
  {
   "cell_type": "code",
   "execution_count": null,
   "metadata": {},
   "outputs": [],
   "source": []
  }
 ],
 "metadata": {
  "kernelspec": {
   "display_name": "deepcell",
   "language": "python",
   "name": "python3"
  },
  "language_info": {
   "codemirror_mode": {
    "name": "ipython",
    "version": 3
   },
   "file_extension": ".py",
   "mimetype": "text/x-python",
   "name": "python",
   "nbconvert_exporter": "python",
   "pygments_lexer": "ipython3",
   "version": "3.8.19"
  }
 },
 "nbformat": 4,
 "nbformat_minor": 2
}
