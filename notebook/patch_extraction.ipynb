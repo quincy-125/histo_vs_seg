{
 "cells": [
  {
   "cell_type": "markdown",
   "metadata": {},
   "source": [
    "#### Image Patch Extraction from Input WSIs (H&E or mIF)\n",
    "This is a demo for WSIPatchExtract custom class for extracting image patches from input WSIs. \\\n",
    "This demo includes the image patch extraction from the entire WSIs and manual selected ROIs from WSIs."
   ]
  },
  {
   "cell_type": "code",
   "execution_count": 21,
   "metadata": {},
   "outputs": [],
   "source": [
    "from pathlib import Path\n",
    "import os\n",
    "import sys\n",
    "\n",
    "module_path = str(Path().resolve().parents[1])\n",
    "sys.path.insert(0, module_path)\n",
    "\n",
    "import PIL\n",
    "import numpy as np\n",
    "from histo_vs_seg.src.data_module.components.extract_wsi_patches import (\n",
    "    WSIPatchExtract,\n",
    "    ROIPatchExtract\n",
    ")"
   ]
  },
  {
   "cell_type": "markdown",
   "metadata": {},
   "source": [
    "##### Image Patch Extraction from the Entire WSIs"
   ]
  },
  {
   "cell_type": "code",
   "execution_count": 22,
   "metadata": {},
   "outputs": [],
   "source": [
    "he_wsi_dir = \"\"\n",
    "mif_wsi_dir = \"\"\n",
    "assert os.path.exists(he_wsi_dir), \"Example H&E WSI is not existed\"\n",
    "assert os.path.exists(mif_wsi_dir), \"Example mIF WSI is not existed\""
   ]
  },
  {
   "cell_type": "code",
   "execution_count": 34,
   "metadata": {},
   "outputs": [],
   "source": [
    "he_patch_output_dir = \"\"\n",
    "mif_patch_output_dir = \"\""
   ]
  },
  {
   "cell_type": "code",
   "execution_count": 35,
   "metadata": {},
   "outputs": [],
   "source": [
    "HEPatchExtractor = WSIPatchExtract(\n",
    "    thumbnail_width=200,\n",
    "    patch_level=0,\n",
    "    max_patch_size=256,\n",
    "    tissue_area_threshold=0,\n",
    ")\n",
    "mIFPatchExtractor = WSIPatchExtract(\n",
    "    thumbnail_width=200,\n",
    "    patch_level=0,\n",
    "    max_patch_size=256,\n",
    "    tissue_area_threshold=0,\n",
    ")"
   ]
  },
  {
   "cell_type": "code",
   "execution_count": 36,
   "metadata": {},
   "outputs": [],
   "source": [
    "he_wsi, he_top_level, he_thumbnail = HEPatchExtractor._get_wsi_thumbnail(he_wsi_dir)\n",
    "mif_wsi, mif_top_level, mif_thumbnail = mIFPatchExtractor._get_wsi_thumbnail(mif_wsi_dir)"
   ]
  },
  {
   "cell_type": "code",
   "execution_count": null,
   "metadata": {},
   "outputs": [],
   "source": [
    "he_thumbnail"
   ]
  },
  {
   "cell_type": "code",
   "execution_count": null,
   "metadata": {},
   "outputs": [],
   "source": [
    "he_binary_img = HEPatchExtractor._get_otsu_binary_img(he_thumbnail)\n",
    "PIL.Image.fromarray(np.uint8(he_binary_img * 255))"
   ]
  },
  {
   "cell_type": "code",
   "execution_count": null,
   "metadata": {},
   "outputs": [],
   "source": [
    "mif_binary_img = mIFPatchExtractor._get_otsu_binary_img(mif_thumbnail)\n",
    "PIL.Image.fromarray(np.uint8(mif_binary_img * 255))"
   ]
  },
  {
   "cell_type": "code",
   "execution_count": 40,
   "metadata": {},
   "outputs": [],
   "source": [
    "HEPatchExtractor.forward(he_wsi_dir, he_patch_output_dir)\n",
    "mIFPatchExtractor.forward(mif_wsi_dir, mif_patch_output_dir)"
   ]
  },
  {
   "cell_type": "code",
   "execution_count": null,
   "metadata": {},
   "outputs": [],
   "source": [
    "he_example_patch_npy = np.load(\n",
    "    f\"{he_patch_output_dir}/xxx/xxx_040_level_0_x_1536_y_5376.npy\"\n",
    ")\n",
    "he_example_patch_npy.shape"
   ]
  },
  {
   "cell_type": "code",
   "execution_count": null,
   "metadata": {},
   "outputs": [],
   "source": [
    "mif_example_patch_npy = np.load(\n",
    "    f\"{mif_patch_output_dir}/xxx/xxx_level_0_x_1536_y_5376.npy\"\n",
    ")\n",
    "mif_example_patch_npy[:, :, :2].shape"
   ]
  },
  {
   "cell_type": "code",
   "execution_count": null,
   "metadata": {},
   "outputs": [],
   "source": [
    "PIL.Image.fromarray(np.uint8(he_example_patch_npy))"
   ]
  },
  {
   "cell_type": "code",
   "execution_count": null,
   "metadata": {},
   "outputs": [],
   "source": [
    "PIL.Image.fromarray(np.uint8(mif_example_patch_npy[:, :, :3]))"
   ]
  },
  {
   "cell_type": "markdown",
   "metadata": {},
   "source": [
    "##### Image Patch Extraction from Manual Selected ROIs from WSIs"
   ]
  },
  {
   "cell_type": "code",
   "execution_count": 2,
   "metadata": {},
   "outputs": [],
   "source": [
    "he_roi_dir = \"\"\n",
    "mif_roi_dir = \"\"\n",
    "assert os.path.exists(he_roi_dir), \"Example H&E WSI ROI is not existed\"\n",
    "assert os.path.exists(mif_roi_dir), \"Example mIF WSI ROI is not existed\""
   ]
  },
  {
   "cell_type": "code",
   "execution_count": 3,
   "metadata": {},
   "outputs": [],
   "source": [
    "he_roi_patch_output_dir = \"\"\n",
    "mif_roi_patch_output_dir = \"\""
   ]
  },
  {
   "cell_type": "code",
   "execution_count": 47,
   "metadata": {},
   "outputs": [],
   "source": [
    "HEROIPatchExtract = ROIPatchExtract(\n",
    "    thumbnail_width=200,\n",
    "    max_patch_size=256\n",
    ")\n",
    "mIFROIPatchExtract = ROIPatchExtract(\n",
    "    thumbnail_width=200,\n",
    "    max_patch_size=256\n",
    ")"
   ]
  },
  {
   "cell_type": "code",
   "execution_count": 48,
   "metadata": {},
   "outputs": [],
   "source": [
    "he_roi, he_roi_thumbnail = HEROIPatchExtract._get_roi_thumbnail(he_roi_dir)\n",
    "mif_roi, mif_roi_thumbnail = mIFROIPatchExtract._get_roi_thumbnail(mif_roi_dir)"
   ]
  },
  {
   "cell_type": "code",
   "execution_count": 49,
   "metadata": {},
   "outputs": [],
   "source": [
    "assert he_roi.size == mif_roi.size, \"H&E and mIF ROI Image size should be the same.\""
   ]
  },
  {
   "cell_type": "code",
   "execution_count": null,
   "metadata": {},
   "outputs": [],
   "source": [
    "he_roi_thumbnail"
   ]
  },
  {
   "cell_type": "code",
   "execution_count": null,
   "metadata": {},
   "outputs": [],
   "source": [
    "mif_roi_thumbnail"
   ]
  },
  {
   "cell_type": "code",
   "execution_count": 8,
   "metadata": {},
   "outputs": [],
   "source": [
    "HEROIPatchExtract.forward(he_roi_dir, he_roi_patch_output_dir)\n",
    "mIFROIPatchExtract.forward(mif_roi_dir, mif_roi_patch_output_dir)"
   ]
  },
  {
   "cell_type": "code",
   "execution_count": null,
   "metadata": {},
   "outputs": [],
   "source": [
    "he_roi_example_patch_npy = np.load(\n",
    "    f\"{he_roi_patch_output_dir}/xxx/xxx_roi__x_0_y_0.npy\"\n",
    ")\n",
    "he_roi_example_patch_npy.shape"
   ]
  },
  {
   "cell_type": "code",
   "execution_count": null,
   "metadata": {},
   "outputs": [],
   "source": [
    "mif_roi_example_patch_npy = np.load(\n",
    "    f\"{mif_roi_patch_output_dir}/xxx/xxx_roi__x_0_y_0.npy\"\n",
    ")\n",
    "mif_roi_example_patch_npy.shape"
   ]
  },
  {
   "cell_type": "code",
   "execution_count": null,
   "metadata": {},
   "outputs": [],
   "source": [
    "PIL.Image.fromarray(np.uint8(he_roi_example_patch_npy))"
   ]
  },
  {
   "cell_type": "code",
   "execution_count": null,
   "metadata": {},
   "outputs": [],
   "source": [
    "PIL.Image.fromarray(np.uint8(mif_roi_example_patch_npy))"
   ]
  }
 ],
 "metadata": {
  "kernelspec": {
   "display_name": "gbm",
   "language": "python",
   "name": "python3"
  },
  "language_info": {
   "codemirror_mode": {
    "name": "ipython",
    "version": 3
   },
   "file_extension": ".py",
   "mimetype": "text/x-python",
   "name": "python",
   "nbconvert_exporter": "python",
   "pygments_lexer": "ipython3",
   "version": "3.8.19"
  }
 },
 "nbformat": 4,
 "nbformat_minor": 2
}
